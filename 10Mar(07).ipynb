{
 "cells": [
  {
   "cell_type": "code",
   "execution_count": null,
   "id": "f6e5e425-44fc-4f11-98fa-4d3e713c3327",
   "metadata": {},
   "outputs": [],
   "source": [
    "The following are the general steps of hypothesis testing in statistics:\n",
    "\n",
    "Step 1: Formulate the Hypotheses\n",
    "\n",
    "Null Hypothesis (H0): This is the default or the assumption that there is no significant \n",
    "difference between the variables being tested. I\n",
    "t is usually stated as an equality, such as \"the mean of A is equal to the mean of B.\"\n",
    "\n",
    "Alternative Hypothesis (Ha): This is the opposite of the null hypothesis\n",
    "and is usually stated as an inequality, such as \"the mean of A is greater \n",
    "than the mean of B\" or \"the proportion of A is different from the proportion of B.\"\n",
    "\n",
    "Step 2: Determine the Test Statistic\n",
    "\n",
    "The test statistic is a numerical value calculated from the data that will be used to decide\n",
    "whether to accept or reject the null hypothesis. \n",
    "The choice of the test statistic depends on the type of data being analyzed,\n",
    "such as means, proportions, or variances.\n",
    "\n",
    "Step 3: Set the Significance Level\n",
    "\n",
    "The significance level (α) is the maximum probability of making a Type I error,\n",
    "which is rejecting the null hypothesis when it is true. It is usually set at 0.05 or 0.01.\n",
    "Step 4: Collect the Data and Calculate the Test Statistic\n",
    "\n",
    "The data is collected and the test statistic is calculated using the appropriate formula.\n",
    "Step 5: Determine the Critical Value or P-Value\n",
    "\n",
    "The critical value is the value of the test statistic that separates \n",
    "the rejection region from the acceptance region. Alternatively, \n",
    "the p-value is the probability of obtaining a test statistic as\n",
    "extreme or more extreme than the observed one, \n",
    "assuming the null hypothesis is true\n",
    "\n",
    "Step 6: Make a Decision\n",
    "\n",
    "If the test statistic falls in the rejection region, \n",
    "the null hypothesis is rejected and the alternative hypothesis is accepted. \n",
    "If the test statistic falls in the acceptance region, the null hypothesis is accepted.\n"
   ]
  }
 ],
 "metadata": {
  "kernelspec": {
   "display_name": "Python 3 (ipykernel)",
   "language": "python",
   "name": "python3"
  },
  "language_info": {
   "codemirror_mode": {
    "name": "ipython",
    "version": 3
   },
   "file_extension": ".py",
   "mimetype": "text/x-python",
   "name": "python",
   "nbconvert_exporter": "python",
   "pygments_lexer": "ipython3",
   "version": "3.10.8"
  }
 },
 "nbformat": 4,
 "nbformat_minor": 5
}
