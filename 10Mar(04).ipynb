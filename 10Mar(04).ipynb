{
 "cells": [
  {
   "cell_type": "code",
   "execution_count": null,
   "id": "7d62acdd-d76f-4510-b1a0-ec628762893d",
   "metadata": {},
   "outputs": [],
   "source": [
    "Null Hypothesis: The average weight of male college students is not significantly different from the average weight of female college students.\n",
    "\n",
    "Alternative Hypothesis: The average weight of male college students is greater than the average weight of female college students.\n",
    "\n",
    "Symbolically,\n",
    "\n",
    "H0: μm ≤ μf\n",
    "\n",
    "HA: μm > μf\n",
    "\n",
    "Where,\n",
    "H0 = null hypothesis\n",
    "HA = alternative hypothesis\n",
    "μm = population mean weight of male college students\n",
    "μf = population mean weight of female college students.\n",
    "\n",
    "\n",
    "\n",
    "\n"
   ]
  }
 ],
 "metadata": {
  "kernelspec": {
   "display_name": "Python 3 (ipykernel)",
   "language": "python",
   "name": "python3"
  },
  "language_info": {
   "codemirror_mode": {
    "name": "ipython",
    "version": 3
   },
   "file_extension": ".py",
   "mimetype": "text/x-python",
   "name": "python",
   "nbconvert_exporter": "python",
   "pygments_lexer": "ipython3",
   "version": "3.10.8"
  }
 },
 "nbformat": 4,
 "nbformat_minor": 5
}
