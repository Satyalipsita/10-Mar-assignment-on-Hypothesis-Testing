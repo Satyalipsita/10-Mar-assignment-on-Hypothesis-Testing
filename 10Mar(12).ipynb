{
 "cells": [
  {
   "cell_type": "code",
   "execution_count": null,
   "id": "a3d41107-ed7d-4dd8-85ad-ccdd465338ca",
   "metadata": {},
   "outputs": [],
   "source": [
    "The t-statistic (also known as the t-score or t-value) is a \n",
    "measure of the difference between the mean of a sample and the\n",
    "population mean, in units of the standard error of the sample mean. \n",
    "It is used to test hypotheses about the population mean when the sample \n",
    "size is small or when the population variance is unknown.\n",
    "\n",
    "The formula for the t-statistic is:\n",
    "\n",
    "t = (x̄ - μ) / (s / sqrt(n))\n",
    "\n",
    "where:\n",
    "\n",
    "x̄ is the sample mean\n",
    "μ is the hypothesized population mean\n",
    "s is the sample standard deviation\n",
    "n is the sample size\n",
    "The t-statistic tells us how many standard \n",
    "errors the sample mean is away from the hypothesized\n",
    "population mean. If the t-statistic is large (i.e., more than about 2 or 3),\n",
    "then it suggests that the sample mean is significantly different from the population mean,\n",
    "and we can reject the null hypothesis that the two means are equal. The specific cutoff value \n",
    "depends on the degrees of freedom, which is equal to n - 1 in this case."
   ]
  }
 ],
 "metadata": {
  "kernelspec": {
   "display_name": "Python 3 (ipykernel)",
   "language": "python",
   "name": "python3"
  },
  "language_info": {
   "codemirror_mode": {
    "name": "ipython",
    "version": 3
   },
   "file_extension": ".py",
   "mimetype": "text/x-python",
   "name": "python",
   "nbconvert_exporter": "python",
   "pygments_lexer": "ipython3",
   "version": "3.10.8"
  }
 },
 "nbformat": 4,
 "nbformat_minor": 5
}
