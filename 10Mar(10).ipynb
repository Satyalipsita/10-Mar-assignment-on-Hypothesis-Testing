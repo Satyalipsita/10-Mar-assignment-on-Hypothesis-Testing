{
 "cells": [
  {
   "cell_type": "code",
   "execution_count": 1,
   "id": "8f94ca67-c6bd-4e8d-963f-c8649e17c460",
   "metadata": {},
   "outputs": [
    {
     "name": "stdout",
     "output_type": "stream",
     "text": [
      "The null hypothesis should be rejected.\n"
     ]
    }
   ],
   "source": [
    "import numpy as np\n",
    "from scipy.stats import t\n",
    "\n",
    "# Define the two random samples\n",
    "sample1 = np.array([1, 2, 3, 4, 5])\n",
    "sample2 = np.array([6, 7, 8, 9, 10])\n",
    "\n",
    "# Calculate the means and standard deviations of the two samples\n",
    "mean1 = np.mean(sample1)\n",
    "mean2 = np.mean(sample2)\n",
    "std1 = np.std(sample1, ddof=1)\n",
    "std2 = np.std(sample2, ddof=1)\n",
    "\n",
    "# Calculate the pooled standard deviation\n",
    "pooled_std = np.sqrt(((len(sample1) - 1) * std1 ** 2 + (len(sample2) - 1) * std2 ** 2) / (len(sample1) + len(sample2) - 2))\n",
    "\n",
    "# Calculate the t-statistic\n",
    "t_stat = (mean1 - mean2) / (pooled_std * np.sqrt(2 / len(sample1)))\n",
    "\n",
    "# Define the significance level and degrees of freedom\n",
    "alpha = 0.05\n",
    "df = len(sample1) + len(sample2) - 2\n",
    "\n",
    "# Calculate the critical t-value\n",
    "t_crit = t.ppf(1 - alpha / 2, df)\n",
    "\n",
    "# Determine if the null hypothesis should be rejected\n",
    "if abs(t_stat) > t_crit:\n",
    "    print(\"The null hypothesis should be rejected.\")\n",
    "else:\n",
    "    print(\"The null hypothesis should not be rejected.\")\n"
   ]
  },
  {
   "cell_type": "code",
   "execution_count": null,
   "id": "bd2804b3-8dd7-42e4-a68d-c3b124749891",
   "metadata": {},
   "outputs": [],
   "source": []
  }
 ],
 "metadata": {
  "kernelspec": {
   "display_name": "Python 3 (ipykernel)",
   "language": "python",
   "name": "python3"
  },
  "language_info": {
   "codemirror_mode": {
    "name": "ipython",
    "version": 3
   },
   "file_extension": ".py",
   "mimetype": "text/x-python",
   "name": "python",
   "nbconvert_exporter": "python",
   "pygments_lexer": "ipython3",
   "version": "3.10.8"
  }
 },
 "nbformat": 4,
 "nbformat_minor": 5
}
