{
 "cells": [
  {
   "cell_type": "code",
   "execution_count": null,
   "id": "b6cfebd6-65bc-4d8f-8940-418a26314487",
   "metadata": {},
   "outputs": [],
   "source": [
    "In statistics, the p-value is a measure of the evidence against a null hypothesis.\n",
    "It is the probability of obtaining a result as extreme or more extreme than the observed result, \n",
    "assuming that the null hypothesis is true.\n",
    "\n",
    "The null hypothesis is a statement that there is no significant \n",
    "difference between two groups, or that there is no significant relationship between \n",
    "two variables. For example, if we want to test whether a new drug is effective, \n",
    "the null hypothesis would be that the drug has no effect.\n",
    "\n",
    "The p-value is used to determine whether the null hypothesis should be rejected or not.\n",
    "If the p-value is very small (typically less than 0.05), we conclude that the observed result \n",
    "is unlikely to have occurred by chance, and we reject the null hypothesis in favor of an alternative\n",
    "hypothesis. On the other hand, if the p-value is large (greater than 0.05), we conclude \n",
    "that the observed result is not statistically significant and we fail to reject the null hypothesis.\n",
    "\n",
    "It's important to note that the p-value is not the same as \n",
    "the probability that the null hypothesis is true or false. \n",
    "It is simply a measure of the strength of evidence against the null hypothesis"
   ]
  }
 ],
 "metadata": {
  "kernelspec": {
   "display_name": "Python 3 (ipykernel)",
   "language": "python",
   "name": "python3"
  },
  "language_info": {
   "codemirror_mode": {
    "name": "ipython",
    "version": 3
   },
   "file_extension": ".py",
   "mimetype": "text/x-python",
   "name": "python",
   "nbconvert_exporter": "python",
   "pygments_lexer": "ipython3",
   "version": "3.10.8"
  }
 },
 "nbformat": 4,
 "nbformat_minor": 5
}
