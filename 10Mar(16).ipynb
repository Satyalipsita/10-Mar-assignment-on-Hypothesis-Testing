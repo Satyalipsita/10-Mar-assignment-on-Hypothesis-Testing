{
 "cells": [
  {
   "cell_type": "code",
   "execution_count": null,
   "id": "8b0ddd51-2ed7-4fdd-9766-70e75c501c6b",
   "metadata": {},
   "outputs": [],
   "source": [
    "To test the hypothesis, we will use a two-sample t-test. The null hypothesis is \n",
    "that the population means for both groups are equal,\n",
    "and the alternative hypothesis is that they are not equal.\n",
    "\n",
    "Null Hypothesis: H0: µ1 = µ2 (The population means for both groups are equal)\n",
    "Alternative Hypothesis: Ha: µ1 ≠ µ2 (The population means for both groups are not equal)\n",
    "\n",
    "We will use a significance level (α) of 0.01.\n",
    "\n",
    "Given sample size n1 = 30, n2 = 40, sample mean (x̄1) = 80, sample mean (x̄2) = 75, \n",
    "standard deviation (s1) = 10, and standard deviation (s2) = 8.\n",
    "\n",
    "The formula for the two-sample t-test is:\n",
    "\n",
    "t = (x̄1 - x̄2) / √(s1²/n1 + s2²/n2)\n",
    "\n",
    "Substituting the values, we get:\n",
    "\n",
    "t = (80 - 75) / √(10²/30 + 8²/40)\n",
    "t = 5 / 1.915\n",
    "t = 2.61\n",
    "\n",
    "The degrees of freedom (df) for the t-test is (n1 + n2 - 2) = (30 + 40 - 2) = 68. \n",
    "We can look up the critical t-value for a two-tailed test with α = 0.01 and df = 68 in a t-table \n",
    "or use a t-distribution calculator. The critical t-value is ±2.645.\n",
    "\n",
    "Since the calculated t-value (2.61) is less than the critical t-value (±2.645), \n",
    "we cannot reject the null hypothesis. We can conclude that there is not enough \n",
    "evidence to suggest that the population means for both groups are different with a \n",
    "significance level of 0.01."
   ]
  }
 ],
 "metadata": {
  "kernelspec": {
   "display_name": "Python 3 (ipykernel)",
   "language": "python",
   "name": "python3"
  },
  "language_info": {
   "codemirror_mode": {
    "name": "ipython",
    "version": 3
   },
   "file_extension": ".py",
   "mimetype": "text/x-python",
   "name": "python",
   "nbconvert_exporter": "python",
   "pygments_lexer": "ipython3",
   "version": "3.10.8"
  }
 },
 "nbformat": 4,
 "nbformat_minor": 5
}
