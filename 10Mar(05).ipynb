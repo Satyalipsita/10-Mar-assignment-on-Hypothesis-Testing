{
 "cells": [
  {
   "cell_type": "code",
   "execution_count": 1,
   "id": "04fbcb4f-0b83-4482-b87d-23ac9ac0dbf1",
   "metadata": {},
   "outputs": [
    {
     "name": "stdout",
     "output_type": "stream",
     "text": [
      "Sample mean for population 1: 3.00\n",
      "Sample mean for population 2: 8.00\n",
      "Sample standard deviation for population 1: 1.58\n",
      "Sample standard deviation for population 2: 1.58\n",
      "t-statistic: -5.00\n",
      "p-value: 0.0011\n",
      "The results are statistically significant. We reject the null hypothesis.\n"
     ]
    }
   ],
   "source": [
    "import numpy as np\n",
    "from scipy.stats import ttest_ind\n",
    "\n",
    "# Define the sample data for population 1 and 2\n",
    "population1 = np.array([1, 2, 3, 4, 5])\n",
    "population2 = np.array([6, 7, 8, 9, 10])\n",
    "\n",
    "# Calculate the sample means and standard deviations\n",
    "sample_mean1 = np.mean(population1)\n",
    "sample_mean2 = np.mean(population2)\n",
    "sample_std1 = np.std(population1, ddof=1)\n",
    "sample_std2 = np.std(population2, ddof=1)\n",
    "\n",
    "# Conduct the t-test assuming unequal variances\n",
    "t_stat, p_value = ttest_ind(population1, population2, equal_var=False)\n",
    "\n",
    "# Print the sample means and standard deviations\n",
    "print(\"Sample mean for population 1: {:.2f}\".format(sample_mean1))\n",
    "print(\"Sample mean for population 2: {:.2f}\".format(sample_mean2))\n",
    "print(\"Sample standard deviation for population 1: {:.2f}\".format(sample_std1))\n",
    "print(\"Sample standard deviation for population 2: {:.2f}\".format(sample_std2))\n",
    "\n",
    "# Print the t-test results\n",
    "print(\"t-statistic: {:.2f}\".format(t_stat))\n",
    "print(\"p-value: {:.4f}\".format(p_value))\n",
    "if p_value < 0.05:\n",
    "    print(\"The results are statistically significant. We reject the null hypothesis.\")\n",
    "else:\n",
    "    print(\"The results are not statistically significant. We fail to reject the null hypothesis.\")\n"
   ]
  },
  {
   "cell_type": "code",
   "execution_count": null,
   "id": "16eab7c3-5fdb-4322-9ab9-9654264ca724",
   "metadata": {},
   "outputs": [],
   "source": []
  }
 ],
 "metadata": {
  "kernelspec": {
   "display_name": "Python 3 (ipykernel)",
   "language": "python",
   "name": "python3"
  },
  "language_info": {
   "codemirror_mode": {
    "name": "ipython",
    "version": 3
   },
   "file_extension": ".py",
   "mimetype": "text/x-python",
   "name": "python",
   "nbconvert_exporter": "python",
   "pygments_lexer": "ipython3",
   "version": "3.10.8"
  }
 },
 "nbformat": 4,
 "nbformat_minor": 5
}
