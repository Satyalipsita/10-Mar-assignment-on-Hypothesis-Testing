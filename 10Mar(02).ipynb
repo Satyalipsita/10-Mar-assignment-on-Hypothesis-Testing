{
 "cells": [
  {
   "cell_type": "code",
   "execution_count": 1,
   "id": "9d6a0e41-40a4-4c86-8ccb-c51159e1f8f6",
   "metadata": {},
   "outputs": [
    {
     "name": "stdout",
     "output_type": "stream",
     "text": [
      "Estimation of population mean using sample mean and standard deviation:\n",
      "Sample mean:  20.5\n",
      "Sample standard deviation:  2.5\n",
      "Sample size:  100\n",
      "Standard error:  0.25\n",
      "95% confidence interval: [20.01, 20.99]\n"
     ]
    }
   ],
   "source": [
    "import math\n",
    "\n",
    "# Sample mean and standard deviation\n",
    "sample_mean = 20.5\n",
    "sample_std = 2.5\n",
    "\n",
    "# Sample size\n",
    "n = 100\n",
    "\n",
    "# Calculate the standard error\n",
    "se = sample_std / math.sqrt(n)\n",
    "\n",
    "# Calculate the lower and upper bounds of the confidence interval\n",
    "z_critical = 1.96  # 95% confidence level\n",
    "lower_bound = sample_mean - z_critical * se\n",
    "upper_bound = sample_mean + z_critical * se\n",
    "\n",
    "# Print the results\n",
    "print(\"Estimation of population mean using sample mean and standard deviation:\")\n",
    "print(\"Sample mean: \", sample_mean)\n",
    "print(\"Sample standard deviation: \", sample_std)\n",
    "print(\"Sample size: \", n)\n",
    "print(\"Standard error: \", se)\n",
    "print(\"95% confidence interval: [{:.2f}, {:.2f}]\".format(lower_bound, upper_bound))\n"
   ]
  },
  {
   "cell_type": "code",
   "execution_count": null,
   "id": "d7565471-b25f-4f2b-87da-eacbe9dd4230",
   "metadata": {},
   "outputs": [],
   "source": []
  }
 ],
 "metadata": {
  "kernelspec": {
   "display_name": "Python 3 (ipykernel)",
   "language": "python",
   "name": "python3"
  },
  "language_info": {
   "codemirror_mode": {
    "name": "ipython",
    "version": 3
   },
   "file_extension": ".py",
   "mimetype": "text/x-python",
   "name": "python",
   "nbconvert_exporter": "python",
   "pygments_lexer": "ipython3",
   "version": "3.10.8"
  }
 },
 "nbformat": 4,
 "nbformat_minor": 5
}
