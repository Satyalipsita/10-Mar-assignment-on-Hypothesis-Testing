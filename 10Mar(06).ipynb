{
 "cells": [
  {
   "cell_type": "code",
   "execution_count": null,
   "id": "b64bbaa4-54f9-40c6-93ce-b8ce9d1f1a95",
   "metadata": {},
   "outputs": [],
   "source": [
    "In statistics, a null hypothesis (H0) is a statement that assumes \n",
    "there is no relationship or difference between two variables or populations.\n",
    "An alternative hypothesis (H1 or Ha) is a statement that contradicts the null hypothesis,\n",
    "suggesting that there is indeed a relationship or difference between the variables or \n",
    "populations being studied.\n",
    "\n",
    "Here are some examples of null and alternative hypotheses:\n",
    "\n",
    "Example 1: A researcher wants to test if a new drug reduces the average blood pressure of patients.\n",
    "\n",
    "Null hypothesis (H0): The new drug does not reduce the average blood pressure of patients.\n",
    "Alternative hypothesis (Ha): The new drug reduces the average blood pressure of patients.\n"
   ]
  }
 ],
 "metadata": {
  "kernelspec": {
   "display_name": "Python 3 (ipykernel)",
   "language": "python",
   "name": "python3"
  },
  "language_info": {
   "codemirror_mode": {
    "name": "ipython",
    "version": 3
   },
   "file_extension": ".py",
   "mimetype": "text/x-python",
   "name": "python",
   "nbconvert_exporter": "python",
   "pygments_lexer": "ipython3",
   "version": "3.10.8"
  }
 },
 "nbformat": 4,
 "nbformat_minor": 5
}
