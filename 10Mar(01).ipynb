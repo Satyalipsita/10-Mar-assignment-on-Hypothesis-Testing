{
 "cells": [
  {
   "cell_type": "code",
   "execution_count": null,
   "id": "d70019fa-e570-4b8c-815d-a0d4fbb64337",
   "metadata": {},
   "outputs": [],
   "source": [
    "Q-1:\n",
    "    In statistics, an estimate is a value that is calculated from a sample of data,\n",
    "and is used to make inferences or predictions about a larger population. \n",
    "There are two types of estimates: point estimates and interval estimates.\n",
    "\n",
    "A point estimate is a single value that is used to estimate an unknown parameter of a population,\n",
    "based on a sample of data. For example, the sample mean is often used as a point estimate of the \n",
    "population mean. Point estimates are useful because they provide a simple and easy-to-understand \n",
    "estimate of the parameter of interest. However, they also have limitations, such as not accounting \n",
    "for the variability in the estimate.\n",
    "\n",
    "An interval estimate, on the other hand, provides a range of values that is \n",
    "likely to contain the unknown parameter of a population, based on a sample of data.\n",
    "For example, a confidence interval is an interval estimate that provides a range of values for \n",
    "the population parameter with a certain level of confidence. Interval estimates are useful because \n",
    "they account for the variability in the estimate, and provide a range of plausible values for \n",
    "the parameter of interest.\n",
    "\n",
    "\n"
   ]
  }
 ],
 "metadata": {
  "kernelspec": {
   "display_name": "Python 3 (ipykernel)",
   "language": "python",
   "name": "python3"
  },
  "language_info": {
   "codemirror_mode": {
    "name": "ipython",
    "version": 3
   },
   "file_extension": ".py",
   "mimetype": "text/x-python",
   "name": "python",
   "nbconvert_exporter": "python",
   "pygments_lexer": "ipython3",
   "version": "3.10.8"
  }
 },
 "nbformat": 4,
 "nbformat_minor": 5
}
