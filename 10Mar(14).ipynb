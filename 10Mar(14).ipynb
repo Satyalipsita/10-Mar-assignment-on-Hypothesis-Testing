{
 "cells": [
  {
   "cell_type": "code",
   "execution_count": null,
   "id": "01ae1525-a2a8-4a90-b5e7-9f3662828b24",
   "metadata": {},
   "outputs": [],
   "source": [
    "To test the hypothesis, we will use a one-sample t-test.\n",
    "The null hypothesis is that the drug does not reduce blood \n",
    "pressure by 10 mmHg, and the alternative hypothesis is that the drug reduces blood pressure by 10 mmHg.\n",
    "\n",
    "Null Hypothesis: H0: µ = 10 (The drug does not reduce blood pressure by 10 mmHg)\n",
    "Alternative Hypothesis: Ha: µ < 10 (The drug reduces blood pressure by 10 mmHg)\n",
    "\n",
    "We will use a significance level (α) of 0.05.\n",
    "\n",
    "Given sample mean (x̄) = 8, sample size (n) = 100 and standard deviation (s) = 3.\n",
    "\n",
    "The formula for the one-sample t-test is:\n",
    "\n",
    "t = (x̄ - µ) / (s / √n)\n",
    "\n",
    "Substituting the values, we get:\n",
    "\n",
    "t = (8 - 10) / (3 / √100)\n",
    "t = -2 / 0.3\n",
    "t = -6.67\n",
    "\n",
    "The degrees of freedom (df) for the t-test is n-1 = 100-1 = 99. \n",
    "We can look up the critical t-value for a one-tailed test with α = 0.05 and df = 99 in\n",
    "a t-table or use a t-distribution calculator. The critical t-value is -1.66.\n",
    "\n",
    "Since the calculated t-value (-6.67) is less than the critical t-value (-1.66), \n",
    "we can reject the null hypothesis. We can conclude that the drug reduces blood \n",
    "pressure by 10 mmHg with a significance level of 0.05."
   ]
  }
 ],
 "metadata": {
  "kernelspec": {
   "display_name": "Python 3 (ipykernel)",
   "language": "python",
   "name": "python3"
  },
  "language_info": {
   "codemirror_mode": {
    "name": "ipython",
    "version": 3
   },
   "file_extension": ".py",
   "mimetype": "text/x-python",
   "name": "python",
   "nbconvert_exporter": "python",
   "pygments_lexer": "ipython3",
   "version": "3.10.8"
  }
 },
 "nbformat": 4,
 "nbformat_minor": 5
}
