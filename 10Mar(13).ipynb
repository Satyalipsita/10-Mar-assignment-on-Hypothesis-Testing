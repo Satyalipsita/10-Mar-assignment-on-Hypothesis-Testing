{
 "cells": [
  {
   "cell_type": "code",
   "execution_count": null,
   "id": "71469e2b-ea9f-4463-a9ea-e22ac4f73c68",
   "metadata": {},
   "outputs": [],
   "source": [
    "To estimate the population mean revenue with a 95% confidence level,\n",
    "we can use a confidence interval formula given by:\n",
    "\n",
    "Confidence Interval = Sample Mean ± (Critical Value) x (Standard Error)\n",
    "\n",
    "where:\n",
    "\n",
    "Sample Mean = 500\n",
    "Critical Value: The critical value is determined by \n",
    "the confidence level and degrees of freedom (df = n - 1). \n",
    "For a 95% confidence level with df = 49, the critical value is 1.96 \n",
    "(we can use a t-distribution table or calculator to find this value).\n",
    "Standard Error: The standard error is calculated as the standard deviation of the sample \n",
    "(s = 50) divided by the square root of the sample size (n = 50).\n",
    "Substituting the values, we get:\n",
    "\n",
    "Confidence Interval = 500 ± (1.96) x (50 / sqrt(50))\n",
    "\n",
    "Simplifying, we get:\n",
    "\n",
    "Confidence Interval = 500 ± 7.14\n",
    "\n",
    "Therefore, the 95% confidence interval for the population mean revenue is (492.86, 507.14).\n",
    "\n",
    "We can interpret this interval as follows: we are 95% confident\n",
    "that the true population mean revenue falls between $492.86 and $507.14 based on our sample of 50 days."
   ]
  }
 ],
 "metadata": {
  "kernelspec": {
   "display_name": "Python 3 (ipykernel)",
   "language": "python",
   "name": "python3"
  },
  "language_info": {
   "codemirror_mode": {
    "name": "ipython",
    "version": 3
   },
   "file_extension": ".py",
   "mimetype": "text/x-python",
   "name": "python",
   "nbconvert_exporter": "python",
   "pygments_lexer": "ipython3",
   "version": "3.10.8"
  }
 },
 "nbformat": 4,
 "nbformat_minor": 5
}
