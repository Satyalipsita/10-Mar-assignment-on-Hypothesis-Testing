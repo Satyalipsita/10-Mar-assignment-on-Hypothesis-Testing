{
 "cells": [
  {
   "cell_type": "code",
   "execution_count": null,
   "id": "9e1a5062-b40d-42fe-8129-78261ce53a7e",
   "metadata": {},
   "outputs": [],
   "source": [
    "To test the hypothesis, we will use a one-sample t-test. \n",
    "The null hypothesis is that the true mean weight is equal to 5, \n",
    "and the alternative hypothesis is that the true mean weight is less than 5.\n",
    "\n",
    "Null Hypothesis: H0: µ = 5 (The true mean weight is equal to 5)\n",
    "Alternative Hypothesis: Ha: µ < 5 (The true mean weight is less than 5)\n",
    "\n",
    "We will use a significance level (α) of 0.01.\n",
    "\n",
    "Given sample mean (x̄) = 4.8, sample size (n) = 25, and standard deviation (s) = 0.5.\n",
    "\n",
    "The formula for the one-sample t-test is:\n",
    "\n",
    "t = (x̄ - µ) / (s / √n)\n",
    "\n",
    "Substituting the values, we get:\n",
    "\n",
    "t = (4.8 - 5) / (0.5 / √25)\n",
    "t = -0.2 / 0.1\n",
    "t = -2\n",
    "\n",
    "The degrees of freedom (df) for the t-test is n-1 = 25-1 = 24. \n",
    "We can look up the critical t-value for a one-tailed test with α = 0.01 and df = 24 in a t-table or\n",
    "use a t-distribution calculator. The critical t-value is -2.492.\n",
    "\n",
    "Since the calculated t-value (-2) is greater than the critical t-value (-2.492), \n",
    "we can reject the null hypothesis. We can conclude that the true mean weight is less \n",
    "than 5 with a significance level of 0.01."
   ]
  }
 ],
 "metadata": {
  "kernelspec": {
   "display_name": "Python 3 (ipykernel)",
   "language": "python",
   "name": "python3"
  },
  "language_info": {
   "codemirror_mode": {
    "name": "ipython",
    "version": 3
   },
   "file_extension": ".py",
   "mimetype": "text/x-python",
   "name": "python",
   "nbconvert_exporter": "python",
   "pygments_lexer": "ipython3",
   "version": "3.10.8"
  }
 },
 "nbformat": 4,
 "nbformat_minor": 5
}
